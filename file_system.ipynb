{
 "cells": [
  {
   "cell_type": "code",
   "execution_count": null,
   "metadata": {},
   "outputs": [],
   "source": [
    "from langchain_community.document_loaders import (\n",
    "    PythonLoader,\n",
    "    DirectoryLoader,\n",
    "    TextLoader,\n",
    ")\n",
    "import os, json\n",
    "from langchain_groq import ChatGroq\n",
    "from langchain_community.embeddings import OllamaEmbeddings\n",
    "from langchain_cohere.embeddings import CohereEmbeddings\n",
    "from langchain_core.prompts import PromptTemplate\n",
    "from langchain_community.agent_toolkits import FileManagementToolkit\n",
    "\n",
    "groq_api_key = \"your Groq api key\"\n",
    "\n",
    "llm = ChatGroq(\n",
    "    groq_api_key=groq_api_key,\n",
    "    model_name=\"llama3-groq-70b-8192-tool-use-preview\",\n",
    "    temperature=0.0,\n",
    ")\n",
    "\n",
    "\n",
    "embeddings_obj = CohereEmbeddings(\n",
    "    model=\"embed-english-v3.0\",\n",
    "    cohere_api_key=\"cdu2whMVXxqmnCTG8wAIqd35ghLPgCnCKG7b8liN\",\n",
    ")\n",
    "\n",
    "\n",
    "# loader=TextLoader('summary_all.txt')\n",
    "\n",
    "\n",
    "# text_data=loader.load()\n",
    "\n",
    "\n",
    "# text_data"
   ]
  },
  {
   "cell_type": "code",
   "execution_count": null,
   "metadata": {},
   "outputs": [],
   "source": [
    "# from langchain.text_splitter import RecursiveCharacterTextSplitter\n",
    "\n",
    "# text_splitter = RecursiveCharacterTextSplitter(chunk_size=100, chunk_overlap=20)\n",
    "# text_splitted = text_splitter.split_documents(text_data)"
   ]
  },
  {
   "cell_type": "code",
   "execution_count": null,
   "metadata": {},
   "outputs": [],
   "source": [
    "# from langchain_community.vectorstores import FAISS\n",
    "\n",
    "# db=FAISS.from_documents(text_splitted,embeddings_obj)"
   ]
  },
  {
   "cell_type": "code",
   "execution_count": null,
   "metadata": {},
   "outputs": [],
   "source": [
    "from langchain_community.vectorstores import FAISS\n",
    "\n",
    "db = FAISS.load_local(\n",
    "    \"Deep_learning_Java_Codes\", embeddings_obj, allow_dangerous_deserialization=True\n",
    ")\n",
    "retriever = db.as_retriever()\n",
    "retriever"
   ]
  },
  {
   "cell_type": "code",
   "execution_count": null,
   "metadata": {},
   "outputs": [],
   "source": [
    "from langchain.tools.retriever import create_retriever_tool\n",
    "\n",
    "retriever_tool = create_retriever_tool(\n",
    "    retriever,\n",
    "    \"Vector_database\",\n",
    "    description=(\n",
    "        \"\"\"This tool retrieves documents file from a vector database based on the user's query. \n",
    "        Analyze the content of the user's query and match it with the most relevant documents in the database. \n",
    "        If the content and context of the query closely align with the documents' subject matter, \n",
    "        provide the corresponding file path where the matching document is stored by using the context passed in retriever object\"\"\"\n",
    "    ),\n",
    ")"
   ]
  },
  {
   "cell_type": "code",
   "execution_count": null,
   "metadata": {},
   "outputs": [],
   "source": [
    "from langchain import hub\n",
    "\n",
    "\n",
    "prompt_react = hub.pull(\"hwchase17/react-chat\")\n",
    "prompt_react"
   ]
  },
  {
   "cell_type": "code",
   "execution_count": null,
   "metadata": {},
   "outputs": [],
   "source": [
    "from langchain_community.tools import ShellTool\n",
    "\n",
    "shell_tool = ShellTool(\n",
    "    name=\"Intermediate Answer\",\n",
    "    description=\"This tool is used for the commanding into windows os terminal and getting back the results of all types (eg.'grep','cls')\",\n",
    "    handle_tool_error=True,\n",
    "    handle_validation_error=True,\n",
    "    response_format=\"content\",\n",
    ")"
   ]
  },
  {
   "cell_type": "code",
   "execution_count": null,
   "metadata": {},
   "outputs": [],
   "source": [
    "import os\n",
    "from langchain.tools import Tool\n",
    "\n",
    "def find_files_by_name(filename: str):\n",
    "    root_dir = \"C:\\\\Users\\\\Rudra\\\\Desktop\"\n",
    "    matches = []\n",
    "\n",
    "    def search_directory(directory):\n",
    "        with os.scandir(directory) as entries:\n",
    "            for entry in entries:\n",
    "                if entry.is_file() and entry.name == filename:\n",
    "                    matches.append(entry.path)\n",
    "                elif entry.is_dir():\n",
    "                    search_directory(entry.path)\n",
    "\n",
    "    search_directory(root_dir)\n",
    "    if matches!=[]:\n",
    "        return matches\n",
    "    else:\n",
    "        return \"Sorry file couldn't found, please try again with some other clues....\"\n",
    "\n",
    "file_finder = Tool.from_function(\n",
    "    func=find_files_by_name,\n",
    "    name=\"file_finder\",\n",
    "    description=\"A tool for finding the file by their filename in 'C:\\\\Users\\\\Rudra\\\\Desktop' directory takes 2 input directory path and filename as input in it\",\n",
    ")"
   ]
  },
  {
   "cell_type": "code",
   "execution_count": null,
   "metadata": {},
   "outputs": [],
   "source": [
    "tools = [retriever_tool, file_finder]\n",
    "tools"
   ]
  },
  {
   "cell_type": "code",
   "execution_count": null,
   "metadata": {},
   "outputs": [],
   "source": [
    "template = \"\"\"Answer the following questions as best you can. You have access to the following tools:\n",
    "{tools}\n",
    "Use the following format:\n",
    "Question: the input question you must answer\n",
    "Thought: you should always think about what to do\n",
    "Action: the action to take, should be one of [{tool_names}]\n",
    "Action Input: the input to the action\n",
    "Observation: the result of the action\n",
    "... (this Thought/Action/Action Input/Observation can repeat N times)\n",
    "Thought: I now know the final answer\n",
    "Final Answer: the final answer to the original input question\n",
    "Begin!\n",
    "Question: {input}\n",
    "Thought:{agent_scratchpad}\"\"\"\n",
    "prompt_react = PromptTemplate.from_template(template)"
   ]
  },
  {
   "cell_type": "code",
   "execution_count": null,
   "metadata": {},
   "outputs": [],
   "source": [
    "from langchain.agents import create_react_agent\n",
    "from langchain.chains.conversation.memory import ConversationBufferMemory\n",
    "\n",
    "memory = ConversationBufferMemory(memory_key=\"history\", return_messages=True)\n",
    "react_agent = create_react_agent(llm, tools, prompt_react)"
   ]
  },
  {
   "cell_type": "code",
   "execution_count": null,
   "metadata": {},
   "outputs": [],
   "source": [
    "from langchain.agents import AgentExecutor, AgentType\n",
    "\n",
    "agent_executor = AgentExecutor(\n",
    "    agent=react_agent,\n",
    "    tools=tools,\n",
    "    verbose=True,\n",
    "    return_intermediate_steps=True,\n",
    "    handle_parsing_errors=True,\n",
    "    memory=memory,\n",
    "    max_execution_time=30\n",
    ")\n",
    "agent_executor"
   ]
  },
  {
   "cell_type": "code",
   "execution_count": null,
   "metadata": {},
   "outputs": [],
   "source": [
    "import warnings\n",
    "\n",
    "warnings.filterwarnings(\"ignore\")\n",
    "agent_executor.invoke({\"input\": \"give the list of filepaths of files which contains the code for tower of hanoy problem in java\"})[\"output\"]"
   ]
  }
 ],
 "metadata": {
  "kernelspec": {
   "display_name": "Python 3",
   "language": "python",
   "name": "python3"
  },
  "language_info": {
   "codemirror_mode": {
    "name": "ipython",
    "version": 3
   },
   "file_extension": ".py",
   "mimetype": "text/x-python",
   "name": "python",
   "nbconvert_exporter": "python",
   "pygments_lexer": "ipython3",
   "version": "3.11.0"
  }
 },
 "nbformat": 4,
 "nbformat_minor": 2
}
