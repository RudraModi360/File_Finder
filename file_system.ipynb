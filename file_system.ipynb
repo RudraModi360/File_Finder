{
 "cells": [
  {
   "cell_type": "code",
   "execution_count": 1,
   "metadata": {},
   "outputs": [],
   "source": [
    "from langchain_community.document_loaders import (\n",
    "    PythonLoader,\n",
    "    DirectoryLoader,\n",
    "    TextLoader,\n",
    ")\n",
    "import os, json\n",
    "from langchain_groq import ChatGroq\n",
    "from langchain_community.embeddings import OllamaEmbeddings\n",
    "from langchain_cohere.embeddings import CohereEmbeddings\n",
    "from langchain_core.prompts import PromptTemplate\n",
    "from langchain_community.agent_toolkits import FileManagementToolkit\n",
    "\n",
    "groq_api_key = \"your Groq api key\"\n",
    "\n",
    "llm = ChatGroq(\n",
    "    groq_api_key=groq_api_key,\n",
    "    model_name=\"llama3-groq-70b-8192-tool-use-preview\",\n",
    "    temperature=0.0,\n",
    ")\n",
    "\n",
    "\n",
    "embeddings_obj = CohereEmbeddings(\n",
    "    model=\"embed-english-v3.0\",\n",
    "    cohere_api_key=\"cdu2whMVXxqmnCTG8wAIqd35ghLPgCnCKG7b8liN\",\n",
    ")\n",
    "\n",
    "\n",
    "# loader=TextLoader('summary_all.txt')\n",
    "\n",
    "\n",
    "# text_data=loader.load()\n",
    "\n",
    "\n",
    "# text_data"
   ]
  },
  {
   "cell_type": "code",
   "execution_count": 2,
   "metadata": {},
   "outputs": [],
   "source": [
    "# from langchain.text_splitter import RecursiveCharacterTextSplitter\n",
    "\n",
    "# text_splitter = RecursiveCharacterTextSplitter(chunk_size=100, chunk_overlap=20)\n",
    "# text_splitted = text_splitter.split_documents(text_data)"
   ]
  },
  {
   "cell_type": "code",
   "execution_count": 3,
   "metadata": {},
   "outputs": [],
   "source": [
    "# from langchain_community.vectorstores import FAISS\n",
    "\n",
    "# db=FAISS.from_documents(text_splitted,embeddings_obj)"
   ]
  },
  {
   "cell_type": "code",
   "execution_count": 4,
   "metadata": {},
   "outputs": [
    {
     "data": {
      "text/plain": [
       "VectorStoreRetriever(tags=['FAISS', 'CohereEmbeddings'], vectorstore=<langchain_community.vectorstores.faiss.FAISS object at 0x000001DBC0A5FC90>)"
      ]
     },
     "execution_count": 4,
     "metadata": {},
     "output_type": "execute_result"
    }
   ],
   "source": [
    "from langchain_community.vectorstores import FAISS\n",
    "\n",
    "db = FAISS.load_local(\n",
    "    \"Deep_learning_Java_Codes\", embeddings_obj, allow_dangerous_deserialization=True\n",
    ")\n",
    "retriever = db.as_retriever()\n",
    "retriever"
   ]
  },
  {
   "cell_type": "code",
   "execution_count": 5,
   "metadata": {},
   "outputs": [],
   "source": [
    "from langchain.tools.retriever import create_retriever_tool\n",
    "\n",
    "retriever_tool = create_retriever_tool(\n",
    "    retriever,\n",
    "    \"Vector_database\",\n",
    "    description=(\n",
    "        \"\"\"This tool retrieves documents file from a vector database based on the user's query. \n",
    "        Analyze the content of the user's query and match it with the most relevant documents in the database. \n",
    "        If the content and context of the query closely align with the documents' subject matter, \n",
    "        provide the corresponding file path where the matching document is stored by using the context passed in retriever object\"\"\"\n",
    "    ),\n",
    ")"
   ]
  },
  {
   "cell_type": "code",
   "execution_count": 6,
   "metadata": {},
   "outputs": [
    {
     "name": "stderr",
     "output_type": "stream",
     "text": [
      "c:\\Users\\Rudra\\AppData\\Local\\Programs\\Python\\Python311\\Lib\\site-packages\\langchain\\hub.py:86: DeprecationWarning: The `langchainhub sdk` is deprecated.\n",
      "Please use the `langsmith sdk` instead:\n",
      "  pip install langsmith\n",
      "Use the `pull_prompt` method.\n",
      "  res_dict = client.pull_repo(owner_repo_commit)\n"
     ]
    },
    {
     "data": {
      "text/plain": [
       "PromptTemplate(input_variables=['agent_scratchpad', 'chat_history', 'input', 'tool_names', 'tools'], metadata={'lc_hub_owner': 'hwchase17', 'lc_hub_repo': 'react-chat', 'lc_hub_commit_hash': '3ecd5f710db438a9cf3773c57d6ac8951eefd2cd9a9b2a0026a65a0893b86a6e'}, template='Assistant is a large language model trained by OpenAI.\\n\\nAssistant is designed to be able to assist with a wide range of tasks, from answering simple questions to providing in-depth explanations and discussions on a wide range of topics. As a language model, Assistant is able to generate human-like text based on the input it receives, allowing it to engage in natural-sounding conversations and provide responses that are coherent and relevant to the topic at hand.\\n\\nAssistant is constantly learning and improving, and its capabilities are constantly evolving. It is able to process and understand large amounts of text, and can use this knowledge to provide accurate and informative responses to a wide range of questions. Additionally, Assistant is able to generate its own text based on the input it receives, allowing it to engage in discussions and provide explanations and descriptions on a wide range of topics.\\n\\nOverall, Assistant is a powerful tool that can help with a wide range of tasks and provide valuable insights and information on a wide range of topics. Whether you need help with a specific question or just want to have a conversation about a particular topic, Assistant is here to assist.\\n\\nTOOLS:\\n------\\n\\nAssistant has access to the following tools:\\n\\n{tools}\\n\\nTo use a tool, please use the following format:\\n\\n```\\nThought: Do I need to use a tool? Yes\\nAction: the action to take, should be one of [{tool_names}]\\nAction Input: the input to the action\\nObservation: the result of the action\\n```\\n\\nWhen you have a response to say to the Human, or if you do not need to use a tool, you MUST use the format:\\n\\n```\\nThought: Do I need to use a tool? No\\nFinal Answer: [your response here]\\n```\\n\\nBegin!\\n\\nPrevious conversation history:\\n{chat_history}\\n\\nNew input: {input}\\n{agent_scratchpad}')"
      ]
     },
     "execution_count": 6,
     "metadata": {},
     "output_type": "execute_result"
    }
   ],
   "source": [
    "from langchain import hub\n",
    "\n",
    "\n",
    "prompt_react = hub.pull(\"hwchase17/react-chat\")\n",
    "prompt_react"
   ]
  },
  {
   "cell_type": "code",
   "execution_count": 7,
   "metadata": {},
   "outputs": [],
   "source": [
    "from langchain_community.tools import ShellTool\n",
    "\n",
    "shell_tool = ShellTool(\n",
    "    name=\"Intermediate Answer\",\n",
    "    description=\"This tool is used for the commanding into windows os terminal and getting back the results of all types (eg.'grep','cls')\",\n",
    "    handle_tool_error=True,\n",
    "    handle_validation_error=True,\n",
    "    response_format=\"content\",\n",
    ")"
   ]
  },
  {
   "cell_type": "code",
   "execution_count": 8,
   "metadata": {},
   "outputs": [],
   "source": [
    "import os\n",
    "from langchain.tools import Tool\n",
    "\n",
    "def find_files_by_name(filename: str):\n",
    "    root_dir = \"C:\\\\Users\\\\Rudra\\\\Desktop\"\n",
    "    matches = []\n",
    "\n",
    "    def search_directory(directory):\n",
    "        with os.scandir(directory) as entries:\n",
    "            for entry in entries:\n",
    "                if entry.is_file() and entry.name == filename:\n",
    "                    matches.append(entry.path)\n",
    "                elif entry.is_dir():\n",
    "                    search_directory(entry.path)\n",
    "\n",
    "    search_directory(root_dir)\n",
    "    if matches!=[]:\n",
    "        return matches\n",
    "    else:\n",
    "        return \"Sorry file couldn't found, please try again with some other clues....\"\n",
    "\n",
    "file_finder = Tool.from_function(\n",
    "    func=find_files_by_name,\n",
    "    name=\"file_finder\",\n",
    "    description=\"A tool for finding the file by their filename in 'C:\\\\Users\\\\Rudra\\\\Desktop' directory takes 2 input directory path and filename as input in it\",\n",
    ")"
   ]
  },
  {
   "cell_type": "code",
   "execution_count": 9,
   "metadata": {},
   "outputs": [
    {
     "data": {
      "text/plain": [
       "[Tool(name='Vector_database', description=\"This tool retrieves documents file from a vector database based on the user's query. \\n        Analyze the content of the user's query and match it with the most relevant documents in the database. \\n        If the content and context of the query closely align with the documents' subject matter, \\n        provide the corresponding file path where the matching document is stored by using the context passed in retriever object\", args_schema=<class 'langchain_core.tools.RetrieverInput'>, func=functools.partial(<function _get_relevant_documents at 0x000001DBC1A13B00>, retriever=VectorStoreRetriever(tags=['FAISS', 'CohereEmbeddings'], vectorstore=<langchain_community.vectorstores.faiss.FAISS object at 0x000001DBC0A5FC90>), document_prompt=PromptTemplate(input_variables=['page_content'], template='{page_content}'), document_separator='\\n\\n'), coroutine=functools.partial(<function _aget_relevant_documents at 0x000001DBC1A13D80>, retriever=VectorStoreRetriever(tags=['FAISS', 'CohereEmbeddings'], vectorstore=<langchain_community.vectorstores.faiss.FAISS object at 0x000001DBC0A5FC90>), document_prompt=PromptTemplate(input_variables=['page_content'], template='{page_content}'), document_separator='\\n\\n')),\n",
       " Tool(name='file_finder', description=\"A tool for finding the file by their filename in 'C:\\\\Users\\\\Rudra\\\\Desktop' directory takes 2 input directory path and filename as input in it\", func=<function find_files_by_name at 0x000001DBC08C6F20>)]"
      ]
     },
     "execution_count": 9,
     "metadata": {},
     "output_type": "execute_result"
    }
   ],
   "source": [
    "tools = [retriever_tool, file_finder]\n",
    "tools"
   ]
  },
  {
   "cell_type": "code",
   "execution_count": 10,
   "metadata": {},
   "outputs": [],
   "source": [
    "template = \"\"\"Answer the following questions as best you can. You have access to the following tools:\n",
    "{tools}\n",
    "Use the following format:\n",
    "Question: the input question you must answer\n",
    "Thought: you should always think about what to do\n",
    "Action: the action to take, should be one of [{tool_names}]\n",
    "Action Input: the input to the action\n",
    "Observation: the result of the action\n",
    "... (this Thought/Action/Action Input/Observation can repeat N times)\n",
    "Thought: I now know the final answer\n",
    "Final Answer: the final answer to the original input question\n",
    "Begin!\n",
    "Question: {input}\n",
    "Thought:{agent_scratchpad}\"\"\"\n",
    "prompt_react = PromptTemplate.from_template(template)"
   ]
  },
  {
   "cell_type": "code",
   "execution_count": 11,
   "metadata": {},
   "outputs": [],
   "source": [
    "from langchain.agents import create_react_agent\n",
    "from langchain.chains.conversation.memory import ConversationBufferMemory\n",
    "\n",
    "memory = ConversationBufferMemory(memory_key=\"history\", return_messages=True)\n",
    "react_agent = create_react_agent(llm, tools, prompt_react)"
   ]
  },
  {
   "cell_type": "code",
   "execution_count": 12,
   "metadata": {},
   "outputs": [
    {
     "data": {
      "text/plain": [
       "AgentExecutor(memory=ConversationBufferMemory(return_messages=True), verbose=True, agent=RunnableAgent(runnable=RunnableAssign(mapper={\n",
       "  agent_scratchpad: RunnableLambda(lambda x: format_log_to_str(x['intermediate_steps']))\n",
       "})\n",
       "| PromptTemplate(input_variables=['agent_scratchpad', 'input'], partial_variables={'tools': \"Vector_database(query: 'str', *, retriever: 'BaseRetriever' = VectorStoreRetriever(tags=['FAISS', 'CohereEmbeddings'], vectorstore=<langchain_community.vectorstores.faiss.FAISS object at 0x000001DBC0A5FC90>), document_prompt: 'BasePromptTemplate' = PromptTemplate(input_variables=['page_content'], template='{page_content}'), document_separator: 'str' = '\\\\n\\\\n', callbacks: 'Callbacks' = None) -> 'str' - This tool retrieves documents file from a vector database based on the user's query. \\n        Analyze the content of the user's query and match it with the most relevant documents in the database. \\n        If the content and context of the query closely align with the documents' subject matter, \\n        provide the corresponding file path where the matching document is stored by using the context passed in retriever object\\nfile_finder(filename: str) - A tool for finding the file by their filename in 'C:\\\\Users\\\\Rudra\\\\Desktop' directory takes 2 input directory path and filename as input in it\", 'tool_names': 'Vector_database, file_finder'}, template='Answer the following questions as best you can. You have access to the following tools:\\n{tools}\\nUse the following format:\\nQuestion: the input question you must answer\\nThought: you should always think about what to do\\nAction: the action to take, should be one of [{tool_names}]\\nAction Input: the input to the action\\nObservation: the result of the action\\n... (this Thought/Action/Action Input/Observation can repeat N times)\\nThought: I now know the final answer\\nFinal Answer: the final answer to the original input question\\nBegin!\\nQuestion: {input}\\nThought:{agent_scratchpad}')\n",
       "| RunnableBinding(bound=ChatGroq(client=<groq.resources.chat.completions.Completions object at 0x000001DBD2B9C150>, async_client=<groq.resources.chat.completions.AsyncCompletions object at 0x000001DBD2B9DA50>, model_name='llama3-groq-70b-8192-tool-use-preview', temperature=1e-08, groq_api_key=SecretStr('**********')), kwargs={'stop': ['\\nObservation']})\n",
       "| ReActSingleInputOutputParser(), input_keys_arg=[], return_keys_arg=[], stream_runnable=True), tools=[Tool(name='Vector_database', description=\"This tool retrieves documents file from a vector database based on the user's query. \\n        Analyze the content of the user's query and match it with the most relevant documents in the database. \\n        If the content and context of the query closely align with the documents' subject matter, \\n        provide the corresponding file path where the matching document is stored by using the context passed in retriever object\", args_schema=<class 'langchain_core.tools.RetrieverInput'>, func=functools.partial(<function _get_relevant_documents at 0x000001DBC1A13B00>, retriever=VectorStoreRetriever(tags=['FAISS', 'CohereEmbeddings'], vectorstore=<langchain_community.vectorstores.faiss.FAISS object at 0x000001DBC0A5FC90>), document_prompt=PromptTemplate(input_variables=['page_content'], template='{page_content}'), document_separator='\\n\\n'), coroutine=functools.partial(<function _aget_relevant_documents at 0x000001DBC1A13D80>, retriever=VectorStoreRetriever(tags=['FAISS', 'CohereEmbeddings'], vectorstore=<langchain_community.vectorstores.faiss.FAISS object at 0x000001DBC0A5FC90>), document_prompt=PromptTemplate(input_variables=['page_content'], template='{page_content}'), document_separator='\\n\\n')), Tool(name='file_finder', description=\"A tool for finding the file by their filename in 'C:\\\\Users\\\\Rudra\\\\Desktop' directory takes 2 input directory path and filename as input in it\", func=<function find_files_by_name at 0x000001DBC08C6F20>)], return_intermediate_steps=True, max_execution_time=30.0, handle_parsing_errors=True)"
      ]
     },
     "execution_count": 12,
     "metadata": {},
     "output_type": "execute_result"
    }
   ],
   "source": [
    "from langchain.agents import AgentExecutor, AgentType\n",
    "\n",
    "agent_executor = AgentExecutor(\n",
    "    agent=react_agent,\n",
    "    tools=tools,\n",
    "    verbose=True,\n",
    "    return_intermediate_steps=True,\n",
    "    handle_parsing_errors=True,\n",
    "    memory=memory,\n",
    "    max_execution_time=30\n",
    ")\n",
    "agent_executor"
   ]
  },
  {
   "cell_type": "code",
   "execution_count": 13,
   "metadata": {},
   "outputs": [
    {
     "name": "stdout",
     "output_type": "stream",
     "text": [
      "\n",
      "\n",
      "\u001b[1m> Entering new AgentExecutor chain...\u001b[0m\n",
      "\u001b[32;1m\u001b[1;3mI need to find documents that contain the code for the Tower of Hanoi problem in Java. I will use the Vector_database tool to find the most relevant documents.\n",
      "\n",
      "Action: Vector_database\n",
      "Action Input: \"Tower of Hanoi problem in Java\"\u001b[0m\u001b[36;1m\u001b[1;3m{'files': [{'filename': 'Tower_Hanoy.java', 'summary': 'Tower of Hanoy puzzle solver in Java, uses\n",
      "\n",
      "in Java. It uses backtracking to solve the puzzle. It checks each possible number in each empty\n",
      "\n",
      "in Java, uses recursion, with functions for moving n disks from one tower to another.', 'filepath':\n",
      "\n",
      "Sort, Merge Sort, Quick Sort, Linear Search, Binary Search, and Tower of Hanoi. It also contains\u001b[0m\u001b[32;1m\u001b[1;3mI found some documents that might contain the code for the Tower of Hanoi problem in Java. I will now use the file_finder tool to locate these files.\n",
      "\n",
      "Action: file_finder\n",
      "Action Input: \"Tower_Hanoy.java\"\u001b[0m\u001b[33;1m\u001b[1;3m['C:\\\\Users\\\\Rudra\\\\Desktop\\\\Java\\\\Tower_Hanoy.java']\u001b[0m\u001b[32;1m\u001b[1;3mFinal Answer: The file path for the Tower of Hanoi problem in Java is C:\\Users\\Rudra\\Desktop\\Java\\Tower_Hanoy.java.\u001b[0m\n",
      "\n",
      "\u001b[1m> Finished chain.\u001b[0m\n"
     ]
    },
    {
     "data": {
      "text/plain": [
       "'The file path for the Tower of Hanoi problem in Java is C:\\\\Users\\\\Rudra\\\\Desktop\\\\Java\\\\Tower_Hanoy.java.'"
      ]
     },
     "execution_count": 13,
     "metadata": {},
     "output_type": "execute_result"
    }
   ],
   "source": [
    "import warnings\n",
    "\n",
    "warnings.filterwarnings(\"ignore\")\n",
    "agent_executor.invoke({\"input\": \"give the list of filepaths of files which contains the code for tower of hanoy problem in java\"})[\"output\"]"
   ]
  }
 ],
 "metadata": {
  "kernelspec": {
   "display_name": "Python 3",
   "language": "python",
   "name": "python3"
  },
  "language_info": {
   "codemirror_mode": {
    "name": "ipython",
    "version": 3
   },
   "file_extension": ".py",
   "mimetype": "text/x-python",
   "name": "python",
   "nbconvert_exporter": "python",
   "pygments_lexer": "ipython3",
   "version": "3.11.4"
  }
 },
 "nbformat": 4,
 "nbformat_minor": 2
}
